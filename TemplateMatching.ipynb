{
 "cells": [
  {
   "cell_type": "code",
   "execution_count": null,
   "metadata": {},
   "outputs": [],
   "source": [
    "import  cv2\n",
    " # Load The Image\n",
    "image = cv2.imread('/home/meracoda/Desktop/image1.png')\n",
    "gray = cv2.cvtColor( image , cv2.COLOR_BGR2GRAY)\n",
    "# Load The Template\n",
    "template= cv2.imread('/home/meracoda/Desktop/template1.png',0)\n",
    "# Template Matching\n",
    "h,w = template.shape\n",
    "res =cv2.matchTemplate(gray ,template , cv2.TM_CCOEFF_NORMED )\n",
    "min_val, max_val, min_loc, max_loc = cv2.minMaxLoc(res)\n",
    "top_left = max_loc\n",
    "bottom_right = (top_left[0] + w, top_left[1] + h)\n",
    "cv2.rectangle(image,top_left, bottom_right, (0,0,255), 2)\n",
    "# Show the Results\n",
    "cv2.imshow('John' , image)\n",
    "cv2.waitKey(0)\n",
    "cv2.destroyAllWindows()\n"
   ]
  }
 ],
 "metadata": {
  "kernelspec": {
   "display_name": "Python 3",
   "language": "python",
   "name": "python3"
  },
  "language_info": {
   "codemirror_mode": {
    "name": "ipython",
    "version": 3
   },
   "file_extension": ".py",
   "mimetype": "text/x-python",
   "name": "python",
   "nbconvert_exporter": "python",
   "pygments_lexer": "ipython3",
   "version": "3.6.4"
  }
 },
 "nbformat": 4,
 "nbformat_minor": 2
}
